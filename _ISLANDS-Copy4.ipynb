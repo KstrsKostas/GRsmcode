{
 "cells": [
  {
   "cell_type": "markdown",
   "metadata": {},
   "source": [
    "#Chaotic photon orbits and fractal Shadows in the Hartle-Thorne Spacetime"
   ]
  },
  {
   "cell_type": "code",
   "execution_count": 2,
   "metadata": {},
   "outputs": [],
   "source": [
    "version()\n",
    "%display latex\n"
   ]
  },
  {
   "cell_type": "markdown",
   "metadata": {},
   "source": [
    "#Whatever"
   ]
  },
  {
   "cell_type": "code",
   "execution_count": 2,
   "metadata": {},
   "outputs": [],
   "source": [
    "import numpy as np"
   ]
  },
  {
   "cell_type": "code",
   "execution_count": 3,
   "metadata": {},
   "outputs": [],
   "source": [
    "import pandas as pd"
   ]
  },
  {
   "cell_type": "code",
   "execution_count": 4,
   "metadata": {},
   "outputs": [],
   "source": [
    "from scipy.interpolate import interp1d"
   ]
  },
  {
   "cell_type": "code",
   "execution_count": 5,
   "metadata": {},
   "outputs": [],
   "source": [
    "import multiprocessing as mp"
   ]
  },
  {
   "cell_type": "code",
   "execution_count": 6,
   "metadata": {},
   "outputs": [
    {
     "data": {
      "text/html": [
       "<html><script type=\"math/tex; mode=display\">\\newcommand{\\Bold}[1]{\\mathbf{#1}}t :\\ \\left( -\\infty, +\\infty \\right) ;\\quad r :\\ \\left( 2.00100000000000 , +\\infty \\right) ;\\quad {\\theta} :\\ \\left( 0 , \\pi \\right) ;\\quad \\mathit{ph} :\\ \\left[ 0 , 2 \\, \\pi \\right] \\mbox{(periodic)}</script></html>"
      ],
      "text/latex": [
       "\\begin{math}\n",
       "\\newcommand{\\Bold}[1]{\\mathbf{#1}}t :\\ \\left( -\\infty, +\\infty \\right) ;\\quad r :\\ \\left( 2.00100000000000 , +\\infty \\right) ;\\quad {\\theta} :\\ \\left( 0 , \\pi \\right) ;\\quad \\mathit{ph} :\\ \\left[ 0 , 2 \\, \\pi \\right] \\mbox{(periodic)}\n",
       "\\end{math}"
      ],
      "text/plain": [
       "t: (-oo, +oo); r: (2.00100000000000, +oo); th: (0, pi); ph: [0, 2*pi] (periodic)"
      ]
     },
     "execution_count": 6,
     "metadata": {},
     "output_type": "execute_result"
    }
   ],
   "source": [
    "M = Manifold(4, 'M', latex_name=r'\\mathcal{M}', structure='Lorentzian')\n",
    "\n",
    "\n",
    "\n",
    "\n",
    "\n",
    "X.<t,r,th,ph>=M.chart(r\"t r:(2.001,+inf) th:(0,pi):\\theta ph:(0,2*pi):periodic\\phi\")\n",
    "\n",
    "X.coord_range()"
   ]
  },
  {
   "cell_type": "code",
   "execution_count": 7,
   "metadata": {},
   "outputs": [],
   "source": [
    "var('m,b,a,q,r,th', domain='real')\n",
    "g = M.metric()\n",
    "m=1\n"
   ]
  },
  {
   "cell_type": "code",
   "execution_count": 8,
   "metadata": {},
   "outputs": [],
   "source": [
    "g[0,0] =((2*m)/r - 1) + (1/(16*m^2*r^5))*(a^2)*(((64*m^6)*r)*(sin(th)^2) - (32*m^6)*r -(1 - 3*(cos(th)^2))*(((16*m^5)*(2*m - r))*(m + r) - ((5*r^3)*q)*(((2*m)*(m - r))*(2*m^2 - 3*r^2 + (6*m)*r) + ((3*r^2)*(r - 2*m)^2)*log(1 - (2*m)/r)))) \n",
    "\n",
    "g[0,3] = -2*a*(m^2)*((sin(th))^2)/r\n",
    "\n",
    "\n",
    "g[1,1]= 1/(1 - (2*m)/r) - (1/(32*m^2*r^3*(r - 2*m)^2))*(a^2)*((2*m)*(80*m^6 + (8*m^4)*r^2 - (24*m^5)*r + ((10*m^3)*r^3)*q + ((20*m^2)*r^4)*q - ((45*m)*r^5)*q + (15*r^6)*q) + (((15*r^5)*(r - 2*m)^2)*q)*log(1 - (2*m)/r) + (3*cos(2*th))*((2*m)*(80*m^6 + (8*m^4)*r^2 - (56*m^5)*r + ((10*m^3)*r^3)*q + ((20*m^2)*r^4)*q - ((45*m)*r^5)*q + (15*r^6)*q) + (((15*r^5)*(r - 2*m)^2)*q)*log(1 - (2*m)/r))) \n",
    "\n",
    "\n",
    "\n",
    "g[2,2] =r^2 + (1/8)*((a^2*r^2)*(3*(cos(th)^2) - 1))*(-(((8*m^3)*(2*m + r))/r^4) - (5*q)*(-((2*m)/r) + (3*r)/m + ((3*r^2)/(2*m^2) - 3)*log(1 - (2*m)/r) + 3))\n",
    "\n",
    "\n",
    "\n",
    "g[3,3] = (r^2)*(sin(th)^2) + (1/8)*(((a^2*r^2)*(3*(cos(th)^2) - 1))*(-(((8*m^3)*(2*m+ r))/r^4)-(5*q)*(-((2*m)/r) + (3*r)/m + ((3*r^2)/(2*m^2) - 3)*log(1 - (2*m)/r) + 3)))*(sin(th)^2)\n"
   ]
  },
  {
   "cell_type": "code",
   "execution_count": 9,
   "metadata": {},
   "outputs": [],
   "source": [
    "def g00(m,r,th,a):return g[0,0](m,r,th,a)\n",
    "def g03(m,r,th,a):return g[0,3](m,r,th,a)\n",
    "def g11(m,r,th,a):return g[1,1](m,r,th,a)\n",
    "def g22(m,r,th,a):return g[2,2](m,r,th,a)\n",
    "def g33(m,r,th,a):return g[3,3](m,r,th,a)\n",
    "def D(m,r,th,a): return (g03(m,r,th,a))^2-g00(m,r,th,a)*g33(m,r,th,a)"
   ]
  },
  {
   "cell_type": "code",
   "execution_count": 10,
   "metadata": {},
   "outputs": [
    {
     "data": {
      "text/html": [
       "<html><script type=\"math/tex; mode=display\">\\newcommand{\\Bold}[1]{\\mathbf{#1}}\\begin{array}{llcl} & \\mathcal{M} & \\longrightarrow & \\mathbb{E}^{3} \\\\ & \\left(t, r, {\\theta}, \\mathit{ph}\\right) & \\longmapsto & \\left(x, y, z\\right) = \\left(r \\cos\\left(\\mathit{ph}\\right) \\sin\\left({\\theta}\\right), r \\sin\\left(\\mathit{ph}\\right) \\sin\\left({\\theta}\\right), r \\cos\\left({\\theta}\\right)\\right) \\end{array}</script></html>"
      ],
      "text/latex": [
       "\\begin{math}\n",
       "\\newcommand{\\Bold}[1]{\\mathbf{#1}}\\begin{array}{llcl} & \\mathcal{M} & \\longrightarrow & \\mathbb{E}^{3} \\\\ & \\left(t, r, {\\theta}, \\mathit{ph}\\right) & \\longmapsto & \\left(x, y, z\\right) = \\left(r \\cos\\left(\\mathit{ph}\\right) \\sin\\left({\\theta}\\right), r \\sin\\left(\\mathit{ph}\\right) \\sin\\left({\\theta}\\right), r \\cos\\left({\\theta}\\right)\\right) \\end{array}\n",
       "\\end{math}"
      ],
      "text/plain": [
       "M --> E^3\n",
       "   (t, r, th, ph) |--> (x, y, z) = (r*cos(ph)*sin(th), r*sin(ph)*sin(th), r*cos(th))"
      ]
     },
     "execution_count": 10,
     "metadata": {},
     "output_type": "execute_result"
    }
   ],
   "source": [
    "E.<x,y,z> = EuclideanSpace()\n",
    "phi = M.diff_map(E, [r*sin(th)*cos(ph), r*sin(th)*sin(ph), r*cos(th)])\n",
    "phi.display()"
   ]
  },
  {
   "cell_type": "code",
   "execution_count": null,
   "metadata": {},
   "outputs": [],
   "source": [
    "b=4.30426204081633\n",
    "sep(m,r,th,a)=-((1/D(m,r,th,a))*((b^2)*g00(m,r,th,a)+2*b*g03(m,r,th,a)+g33(m,r,th,a)))\n",
    "B(a,q)=sep(m,r,th,a)\n",
    "czv(r,th)=B(0.327352,1)\n",
    "\n"
   ]
  },
  {
   "cell_type": "code",
   "execution_count": null,
   "metadata": {
    "scrolled": false
   },
   "outputs": [],
   "source": [
    "graph_separatrix = implicit_plot(czv,(r,2,4),(th,0,3),linewidth=5,\n",
    "                       plot_points=2000,figsize=[30,30],fontsize=120,\n",
    "                       axes_labels_size=2,\n",
    "                       frame=True,title='b=%f'%b)\n",
    "show(graph_separatrix,xmin=2,xmax=2.5,ymin=1.25,ymax=1.9,axes_labels=[r'$r$', r'$ \\theta$'])"
   ]
  },
  {
   "cell_type": "code",
   "execution_count": null,
   "metadata": {},
   "outputs": [],
   "source": [
    "\n",
    "def initial_vector(r0, b,al, ph0=0, E=1, inward=False):\n",
    "    t0,th0=0,pi/2\n",
    "    L = -b*E\n",
    "    vth0 = al/(100*r0)\n",
    "    vt0=(E*g33(m,r0,th0,a)+L*g03(m,r0,th0,a))/(D(m,r0,th0,a))\n",
    "    vr0=sqrt((((1/D(m,r0,th0,a))*((L^2)*g00(m,r0,th0,a)+2*E*L*g03(m,r0,th0,a)+(E^2)*g33(m,r0,th0,a)))\n",
    "              -((vth0)^2)*g22(m,r0,th0,a))/g11(m,r0,th0,a))\n",
    "    if inward:\n",
    "        \n",
    "        vr0 = - vr0\n",
    "    \n",
    "    vph0 = -(1/D(m,r0,th0,a))*(E*g03(m,r0,th0,a)+L*(g00(m,r0,th0,a)))\n",
    "    p0 = M((t0, r0, th0, ph0), name='p_0')\n",
    "    \n",
    "    return M.tangent_space(p0)((vt0, vr0, vth0, vph0), name='v_0')\n",
    "\n"
   ]
  },
  {
   "cell_type": "code",
   "execution_count": null,
   "metadata": {},
   "outputs": [],
   "source": [
    "r0 = 100 # απόσταση πηγής\n",
    "th0=pi/2\n",
    "s = var('s')  # affine parameter "
   ]
  },
  {
   "cell_type": "code",
   "execution_count": null,
   "metadata": {},
   "outputs": [],
   "source": [
    "\n",
    "v0 = initial_vector(r0,b=-4.30426204081633,al=0.022, ph0=0, inward=True)\n",
    "c1 = M.integrated_geodesic(g, (s, 0, 300), v0, across_charts=True)\n",
    "\n",
    "\n",
    "sol1 = c1.solve_across_charts(step=0.01, method='odeint', parameters_values={a:0.327352,q:1},\n",
    "                              verbose='True',solution_key='sol1')\n",
    "\n",
    "interp = c1.interpolate(solution_key='sol1',\n",
    "                        interpolation_key='interp', verbose=True)\n",
    "\n",
    "c1._interpolations['interp'] = c1._interpolations['interp'][0][1]  "
   ]
  },
  {
   "cell_type": "code",
   "execution_count": null,
   "metadata": {},
   "outputs": [],
   "source": [
    "len(sol1[0][1])"
   ]
  },
  {
   "cell_type": "code",
   "execution_count": null,
   "metadata": {},
   "outputs": [],
   "source": [
    "sepa=[]\n",
    "for i in range(len(sol1[0][1])):\n",
    "    sepa.append([sol1[0][1][i][2],sol1[0][1][i][3]])\n",
    "    \n",
    "graph_orbit=scatter_plot(sepa,aspect_ratio='automatic',figsize=[50,50],alpha=1,markersize=10,zorder=2,edgecolor='red',facecolor='red')\n",
    "show(graph_orbit+graph_separatrix,xmin=2,xmax=2.5,ymin=1.25,ymax=1.9,axes_labels=[r'$r$', r'$ \\theta$'])"
   ]
  },
  {
   "cell_type": "code",
   "execution_count": null,
   "metadata": {},
   "outputs": [],
   "source": [
    "def initial_vector_2(r0,pr0,b,  ph0=0, E=1, inward=False):\n",
    "    t0,th0=0,pi/2\n",
    "    L = -b*E\n",
    "    vt0=(E*g33(m,r0,th0,a)+L*g03(m,r0,th0,a))/(D(m,r0,th0,a))\n",
    "    vr0=pr0\n",
    "    if inward:\n",
    "        vr0 = - vr0\n",
    "    vth0 = sqrt((((1/D(m,r0,th0,a))*((L^2)*g00(m,r0,th0,a)+2*E*L*g03(m,r0,th0,a)+(E^2)*g33(m,r0,th0,a)))-((pr0)^2)*g11(m,r0,th0,a))/g22(m,r0,th0,a))\n",
    "    vph0 = -(1/D(m,r0,th0,a))*(E*g03(m,r0,th0,a)+L*(g00(m,r0,th0,a)))\n",
    "    p0 = M((t0, r0, th0, ph0), name='p_0')\n",
    "    \n",
    "    return M.tangent_space(p0)((vt0, vr0, vth0, vph0), name='v_0')"
   ]
  },
  {
   "cell_type": "code",
   "execution_count": null,
   "metadata": {},
   "outputs": [],
   "source": [
    "r0_min = 2.211\n",
    "r0_max = 2.32\n",
    "nr0 = 5\n",
    "dr0 = (r0_max - r0_min) / (nr0 - 1)\n",
    "r0_sel = [(r0_min + i*dr0) for i in range(nr0)]\n",
    "\n",
    "\n",
    "\n",
    "r0_sel"
   ]
  },
  {
   "cell_type": "code",
   "execution_count": null,
   "metadata": {},
   "outputs": [],
   "source": [
    "pr0_min = -0.015\n",
    "pr0_max = 0.015\n",
    "npr0 = 5\n",
    "dpr0 = (pr0_max - pr0_min) / (npr0 - 1)\n",
    "pr0_sel = [(pr0_min + i*dpr0) for i in range(npr0)]\n",
    "\n",
    "pr0_sel+= [0]\n",
    "\n",
    "pr0_sel"
   ]
  },
  {
   "cell_type": "code",
   "execution_count": 11,
   "metadata": {},
   "outputs": [],
   "source": [
    "L=4.304332\n",
    "check(r,pr0)=((((1/D(m,r,pi/2,a))*((L^2)*g00(m,r,pi/2,a)+2*L*g03(m,r,pi/2,a)+g33(m,r,pi/2,a)))-((pr0)^2)*g11(m,r,pi/2,a))/g22(m,r,pi/2,a)).subs(a=0.327352,q=1)"
   ]
  },
  {
   "cell_type": "code",
   "execution_count": null,
   "metadata": {},
   "outputs": [],
   "source": [
    "##################SCAN#######################\n",
    "\n",
    "import multiprocessing as mp\n",
    "from ipywidgets import FloatProgress\n",
    "from IPython.display import display\n",
    "def integration(r0):\n",
    "\n",
    "    \n",
    "    \n",
    "\n",
    "    \n",
    "    \n",
    "    \n",
    "    poin=[]\n",
    "    for pr0 in pr0_sel:\n",
    "        color=0\n",
    "        \n",
    "        print(r0)\n",
    "        if check(r0,pr0)>0:\n",
    "            \n",
    "            \n",
    "            \n",
    "        \n",
    "            ph0=0\n",
    "            v0 = initial_vector_2(r0,pr0, b=-4.304332, ph0=ph0, inward=True)\n",
    "            c1 = M.integrated_geodesic(g, (s, 0, 1000), v0, across_charts=True)\n",
    "\n",
    "\n",
    "            sol1 = c1.solve_across_charts(step=0.1, method='odeint', parameters_values={a:0.327352,q:1},\n",
    "                                        verbose='True',solution_key='sol1')\n",
    "\n",
    "\n",
    "            \n",
    "      \n",
    "            interp = c1.interpolate(solution_key='sol1',\n",
    "                                    interpolation_key='interp', verbose=True)\n",
    "\n",
    "            c1._interpolations['interp'] = c1._interpolations['interp'][0][1]            \n",
    "        \n",
    "            \n",
    "        \n",
    "\n",
    "    #apeiro#\n",
    "            if sol1[0][1][len(sol1[0][1])-1][2]>20  :\n",
    "        \n",
    "        \n",
    "                    \n",
    "                color='red'\n",
    "    \n",
    "    #panw#   \n",
    "            if sol1[0][1][len(sol1[0][1])-1][2]<3 and sol1[0][1][len(sol1[0][1])-1][3]>pi/2 and sol1[0][1][len(sol1[0][1])-1][0] < 900:\n",
    "                color='green'\n",
    "    \n",
    "    #katw#\n",
    "                \n",
    "            if sol1[0][1][len(sol1[0][1])-1][2]<3 and sol1[0][1][len(sol1[0][1])-1][3]<pi/2 and sol1[0][1][len(sol1[0][1])-1][0] < 900:\n",
    "                color='blue'\n",
    "                \n",
    "            if sol1[0][1][len(sol1[0][1])-1][2]<3 and sol1[0][1][len(sol1[0][1])-1][0] > 900:\n",
    "                \n",
    "                color='black'\n",
    "                \n",
    "                \n",
    "                \n",
    "\n",
    "                \n",
    "            poin.append([color,r0,pr0])\n",
    "        \n",
    "        \n",
    "    my_df=pd.DataFrame(poin)\n",
    "    my_df.to_csv(r'G:\\desktop\\exit basins2\\poin(%f).csv' %r0,index=False,header=False) \n",
    "\n",
    "        \n",
    "        \n",
    "        \n",
    "    \n"
   ]
  },
  {
   "cell_type": "code",
   "execution_count": null,
   "metadata": {},
   "outputs": [],
   "source": [
    "pool = mp.Pool(10)\n",
    "sols = pool.map(integration,[r0 for r0 in r0_sel])"
   ]
  },
  {
   "cell_type": "code",
   "execution_count": null,
   "metadata": {},
   "outputs": [],
   "source": [
    "pool.close() "
   ]
  },
  {
   "cell_type": "code",
   "execution_count": null,
   "metadata": {},
   "outputs": [],
   "source": [
    "exb=[]\n",
    "for i in range(len(r0_sel)):\n",
    "    Α=[]\n",
    "    Α=pd.read_csv(r'G:\\desktop\\exit basins2\\poin(%f).csv'%r0_sel[i],delimiter=',',header=None,index_col=None)\n",
    "    Α=Α.values.tolist()\n",
    "    exb.append(Α)\n",
    "    "
   ]
  },
  {
   "cell_type": "code",
   "execution_count": null,
   "metadata": {},
   "outputs": [],
   "source": [
    "points=[]\n",
    "for i in range(len(exb)):\n",
    "    for j in range(len(exb[i])):\n",
    "        points.append([exb[i][j][1],exb[i][j][2]])"
   ]
  },
  {
   "cell_type": "code",
   "execution_count": null,
   "metadata": {},
   "outputs": [],
   "source": [
    "colors=[]\n",
    "for i in range(len(exb)):\n",
    "    for j in range(len(exb[i])):\n",
    "        colors.append(exb[i][j][0])"
   ]
  },
  {
   "cell_type": "code",
   "execution_count": null,
   "metadata": {},
   "outputs": [],
   "source": [
    "graphw=scatter_plot(points,aspect_ratio='automatic',figsize=[50,50],alpha=1,markersize=300,zorder=5,marker=\",\",edgecolor=colors,facecolor=colors,frame=True)\n",
    "    \n",
    "show(graphw,xmin=2.2,xmax=2.35,ymin=-0.03,ymax=0.03,fontsize=100,figsize=50,axes_labels=[r'$r$', r'$u^r$'],frame=True) "
   ]
  },
  {
   "cell_type": "code",
   "execution_count": null,
   "metadata": {},
   "outputs": [],
   "source": [
    "##################SCAN#######################\n",
    "\n",
    "import multiprocessing as mp\n",
    "from ipywidgets import FloatProgress\n",
    "from IPython.display import display\n",
    "def integration(r0):\n",
    "\n",
    "    \n",
    "    \n",
    "\n",
    "    \n",
    "    \n",
    "    \n",
    "    \n",
    "    for pr0 in pr0_sel:\n",
    "        \n",
    "        if check(r0,pr0)>0:\n",
    "        \n",
    "            print(r0)\n",
    "        \n",
    "            ph0=0\n",
    "            v0 = initial_vector_2(r0,pr0, b=-4.304332, ph0=ph0, inward=True)\n",
    "            c1 = M.integrated_geodesic(g, (s, 0, 1000), v0, across_charts=True)\n",
    "\n",
    "\n",
    "            sol1 = c1.solve_across_charts(step=0.1, method='odeint', parameters_values={a:0.327352,q:1},\n",
    "                                            verbose='True',solution_key='sol1')\n",
    "\n",
    "\n",
    "            \n",
    "      \n",
    "            interp = c1.interpolate(solution_key='sol1',\n",
    "                                    interpolation_key='interp', verbose=True)\n",
    "\n",
    "            c1._interpolations['interp'] = c1._interpolations['interp'][0][1]            \n",
    "        \n",
    "    \n",
    "    \n",
    "            poin=[]\n",
    "            for i in range(3,len(sol1[0][1]-5)):\n",
    "        \n",
    "    \n",
    "                if cos(sol1[0][1][i][3])*cos(sol1[0][1][i-1][3]) < 0 :\n",
    "                    v1=c1.tangent_vector_eval_at((((i-1)+i)/2)*0.1, verbose=False)\n",
    "                    if v1[2]>0:\n",
    "                    \n",
    "                        print(i)\n",
    "                        X1=[]\n",
    "                        Y1=[]\n",
    "                        X2=[]\n",
    "                        Y2=[]\n",
    "                        for j in range((i-3),(i+3)):\n",
    "                            X1.append(sol1[0][1][j][3])\n",
    "                            Y1.append(sol1[0][1][j][2])\n",
    "                \n",
    "                \n",
    "                            v2=c1.tangent_vector_eval_at(j*0.1, verbose=False)\n",
    "                            Y2.append(v2[1])\n",
    "                \n",
    "            \n",
    "                        interpolate_x1 = numerical_approx(pi/2)\n",
    "                        y_interp1 = interp1d(X1, Y1,kind='cubic')\n",
    "                        y_interp2=interp1d(X1,Y2,kind='cubic')\n",
    "                        l1=y_interp1(interpolate_x1)\n",
    "                        l2=y_interp2(interpolate_x1)\n",
    "                        poin.append([numerical_approx(l1),numerical_approx(l2)])\n",
    "    \n",
    "                    \n",
    "        \n",
    "\n",
    "    return poin\n",
    "                  \n",
    "       \n",
    "            \n",
    "            \n",
    "\n",
    "\n",
    "\n",
    "\n",
    "\n",
    "pool = mp.Pool(10)\n",
    "sols = pool.map(integration,[r0 for r0 in r0_sel])"
   ]
  },
  {
   "cell_type": "code",
   "execution_count": null,
   "metadata": {
    "scrolled": true
   },
   "outputs": [],
   "source": []
  },
  {
   "cell_type": "code",
   "execution_count": null,
   "metadata": {},
   "outputs": [],
   "source": [
    "pool.close() "
   ]
  },
  {
   "cell_type": "code",
   "execution_count": null,
   "metadata": {},
   "outputs": [],
   "source": [
    "empty=[]\n",
    "graph94=scatter_plot(empty,aspect_ratio='automatic',figsize=[50,50],alpha=1,markersize=50,zorder=5,edgecolor='black',facecolor='green')\n",
    "\n",
    "\n",
    "for i in range(len(sols)):\n",
    "        \n",
    "        \n",
    " \n",
    "    graph94+=scatter_plot(sols[i],aspect_ratio='automatic',figsize=[50,50],alpha=1,markersize=50,zorder=5,edgecolor='black',facecolor='green')\n",
    "    \n",
    "   "
   ]
  },
  {
   "cell_type": "code",
   "execution_count": null,
   "metadata": {},
   "outputs": [],
   "source": [
    "\n",
    "Α=[]\n",
    "Α=pd.read_csv(r'G:\\desktop\\poincaresect\\merge-csv.com__61819a33e6c23.csv',delimiter=',',header=None,index_col=None)\n",
    "D=Α.values.tolist()\n",
    "graph94=scatter_plot(D,aspect_ratio='automatic',figsize=[50,50],alpha=1,markersize=50,zorder=5,edgecolor='black',facecolor='black')\n",
    "\n",
    "    "
   ]
  },
  {
   "cell_type": "code",
   "execution_count": null,
   "metadata": {
    "scrolled": false
   },
   "outputs": [],
   "source": [
    "\n",
    "graphw=graph94\n",
    "graphw.fontsize(48)    \n",
    "show(graphw,xmin=2.2,xmax=2.325,ymin=-0.03,ymax=0.03,figsize=60,axes_labels=[r'$r$', r'$u^r$']) "
   ]
  },
  {
   "cell_type": "code",
   "execution_count": 12,
   "metadata": {},
   "outputs": [],
   "source": [
    "def initial_vector(r0,al,b,  ph0=0, E=1, inward=False):\n",
    "    t0,th0=0,pi/2\n",
    "    L = -b*E\n",
    "    vth0 = al/(40*r0)\n",
    "    vt0=(E*g33(m,r0,th0,a)+L*g03(m,r0,th0,a))/(D(m,r0,th0,a))\n",
    "    vr0=sqrt((((1/D(m,r0,th0,a))*((L^2)*g00(m,r0,th0,a)+2*E*L*g03(m,r0,th0,a)+(E^2)*g33(m,r0,th0,a)))-((vth0)^2)*g22(m,r0,th0,a))/g11(m,r0,th0,a))\n",
    "    if inward:\n",
    "        vr0 = - vr0\n",
    "    \n",
    "    vph0 = -(1/D(m,r0,th0,a))*(E*g03(m,r0,th0,a)+L*(g00(m,r0,th0,a)))\n",
    "    p0 = M((t0, r0, th0, ph0), name='p_0')\n",
    "    return M.tangent_space(p0)((vt0, vr0, vth0, vph0), name='v_0')\n",
    "\n"
   ]
  },
  {
   "cell_type": "code",
   "execution_count": 14,
   "metadata": {},
   "outputs": [],
   "source": [
    "r0 = 40 # απόσταση πηγής\n",
    "th0=pi/2\n",
    "s = var('s')  # affine parameter "
   ]
  },
  {
   "cell_type": "code",
   "execution_count": null,
   "metadata": {},
   "outputs": [],
   "source": [
    " #03   \n",
    "v0 = initial_vector(r0=40,al=0.0054019,b=-4.304332, ph0=0, inward=True)\n",
    "c3 = M.integrated_geodesic(g, (s, 0, 106000), v0)\n",
    "sol = c3.solve(0.1,method='dopri5',parameters_values={a:0.327352,q:1},\n",
    "                solution_key='sol',verbose=True) \n",
    "\n",
    "interp = c3.interpolate(solution_key='sol',\n",
    "                interpolation_key='interp 3', verbose=True)\n",
    "\n",
    "    \n",
    "\n"
   ]
  },
  {
   "cell_type": "code",
   "execution_count": null,
   "metadata": {},
   "outputs": [],
   "source": [
    "loop=[]\n",
    "for i in range(2,1060000):\n",
    "    loop.append(i)"
   ]
  },
  {
   "cell_type": "code",
   "execution_count": null,
   "metadata": {
    "scrolled": true
   },
   "outputs": [],
   "source": [
    "\n",
    "\n",
    "\n",
    "def poincare(i):\n",
    "    \n",
    "    poin0=[]\n",
    "    \n",
    "    \n",
    "\n",
    "    \n",
    "\n",
    "    \n",
    "    if cos(sol[i][3])*cos(sol[i+1][3]) < 0 :\n",
    "        v0=c3.tangent_vector_eval_at((((i+1)+i)/2)*0.1, verbose=False)\n",
    "        \n",
    "        \n",
    "        if v0[2]>0:\n",
    "            X1=[]\n",
    "            Y1=[]\n",
    "            X2=[]\n",
    "            Y2=[]\n",
    "            for j in range((i-5),(i+5)):\n",
    "                ##r,th τιμές\n",
    "                X1.append(sol[j][3])\n",
    "                Y1.append(sol[j][2])\n",
    "                ##vr,vth τιμές\n",
    "                \n",
    "                v1=c3.tangent_vector_eval_at(j*0.1, verbose=False)\n",
    "                Y2.append(v1[1])\n",
    "                \n",
    "                \n",
    "            \n",
    "            interpolate_x1 = numerical_approx(pi/2)\n",
    "            y_interp1 = interp1d(X1, Y1,kind='cubic')\n",
    "            y_interp2=interp1d(X1,Y2,kind='cubic')\n",
    "            l1=y_interp1(interpolate_x1)\n",
    "            l2=y_interp2(interpolate_x1)\n",
    "            print (i)\n",
    "            poin0.append([sol[i][1],numerical_approx(l1),numerical_approx(l2)])\n",
    "            \n",
    "    return poin0\n",
    "        \n"
   ]
  },
  {
   "cell_type": "code",
   "execution_count": null,
   "metadata": {
    "scrolled": true
   },
   "outputs": [],
   "source": [
    "pool = mp.Pool(10)\n",
    "poins = pool.map(poincare,[i for i in loop])"
   ]
  },
  {
   "cell_type": "code",
   "execution_count": null,
   "metadata": {},
   "outputs": [],
   "source": []
  },
  {
   "cell_type": "code",
   "execution_count": null,
   "metadata": {},
   "outputs": [],
   "source": []
  },
  {
   "cell_type": "code",
   "execution_count": null,
   "metadata": {},
   "outputs": [],
   "source": [
    "list2 = filter(None, poins)\n",
    "list3 = list(list2)"
   ]
  },
  {
   "cell_type": "code",
   "execution_count": null,
   "metadata": {},
   "outputs": [],
   "source": [
    "from operator import itemgetter\n",
    "list3=(sorted(list3, key=itemgetter(0)))"
   ]
  },
  {
   "cell_type": "code",
   "execution_count": null,
   "metadata": {},
   "outputs": [],
   "source": [
    "gg=[]\n",
    "for i in range(len(list3)):\n",
    "    gg.append([list3[i][0][1],list3[i][0][2]])"
   ]
  },
  {
   "cell_type": "code",
   "execution_count": null,
   "metadata": {},
   "outputs": [],
   "source": []
  },
  {
   "cell_type": "code",
   "execution_count": null,
   "metadata": {},
   "outputs": [],
   "source": [
    "\n",
    "pool.close()\n"
   ]
  },
  {
   "cell_type": "code",
   "execution_count": null,
   "metadata": {},
   "outputs": [],
   "source": [
    "\n",
    "graphc=scatter_plot(gg,aspect_ratio='automatic',figsize=[50,50],alpha=1,markersize=100,zorder=1,edgecolor='black',facecolor='blue',frame=True)\n"
   ]
  },
  {
   "cell_type": "code",
   "execution_count": null,
   "metadata": {
    "scrolled": false
   },
   "outputs": [],
   "source": [
    " \n",
    "show(graphc,xmin=2.2,xmax=2.32,ymin=-0.03,ymax=0.03,fontsize=100,figsize=50,frame=True,axes_labels=[r'$r$', r'$u^r$']) "
   ]
  },
  {
   "cell_type": "code",
   "execution_count": null,
   "metadata": {},
   "outputs": [],
   "source": [
    "graphc.save('blueperiodic.png')"
   ]
  },
  {
   "cell_type": "code",
   "execution_count": null,
   "metadata": {},
   "outputs": [],
   "source": [
    "len(sol)"
   ]
  },
  {
   "cell_type": "code",
   "execution_count": null,
   "metadata": {},
   "outputs": [],
   "source": [
    "my_df=pd.DataFrame(gg)\n",
    "my_df.to_csv('poincare_0.0054019_106k_.csv',index=False,header=False)"
   ]
  },
  {
   "cell_type": "code",
   "execution_count": null,
   "metadata": {},
   "outputs": [],
   "source": [
    "sol=[]\n",
    "sol=pd.read_csv('sol_0.0053967_120000_.csv',delimiter=',')\n",
    "sol=sol.values.tolist()"
   ]
  },
  {
   "cell_type": "code",
   "execution_count": null,
   "metadata": {},
   "outputs": [],
   "source": []
  },
  {
   "cell_type": "code",
   "execution_count": null,
   "metadata": {},
   "outputs": [],
   "source": [
    "len(sol)"
   ]
  },
  {
   "cell_type": "code",
   "execution_count": null,
   "metadata": {},
   "outputs": [],
   "source": []
  },
  {
   "cell_type": "code",
   "execution_count": null,
   "metadata": {},
   "outputs": [],
   "source": [
    "rt=[]\n",
    "for i in range (0,len(sol)):\n",
    "    rt.append([sol[i][1],sol[i][2]*cos(sol[i][3])])\n",
    "    "
   ]
  },
  {
   "cell_type": "code",
   "execution_count": null,
   "metadata": {},
   "outputs": [],
   "source": [
    "len(rt)"
   ]
  },
  {
   "cell_type": "code",
   "execution_count": null,
   "metadata": {},
   "outputs": [],
   "source": [
    "rt[1120000]"
   ]
  },
  {
   "cell_type": "code",
   "execution_count": null,
   "metadata": {},
   "outputs": [],
   "source": [
    "size=len(rt)-1\n",
    "fft_data=FFT(size)"
   ]
  },
  {
   "cell_type": "code",
   "execution_count": null,
   "metadata": {},
   "outputs": [],
   "source": [
    "for j in range(size):\n",
    "    fft_data[j]=rt[j][1]"
   ]
  },
  {
   "cell_type": "code",
   "execution_count": null,
   "metadata": {},
   "outputs": [],
   "source": []
  },
  {
   "cell_type": "code",
   "execution_count": null,
   "metadata": {},
   "outputs": [],
   "source": [
    "fft_data.forward_transform()"
   ]
  },
  {
   "cell_type": "code",
   "execution_count": null,
   "metadata": {},
   "outputs": [],
   "source": [
    "deltaX=2*pi/size\n",
    "fft_freq=[[0,0] for k in range((size)/2)]\n",
    "for j in range((size)/2):\n",
    "    fft_freq[j][0]=j*deltaX\n",
    "    fft_freq[j][1]=deltaX*abs(vector(fft_data[j]))^2"
   ]
  },
  {
   "cell_type": "code",
   "execution_count": null,
   "metadata": {},
   "outputs": [],
   "source": [
    "graphrt=list_plot(rt,plotjoined=True,thickness=0.5,frame=True, axes=False,color='red')"
   ]
  },
  {
   "cell_type": "code",
   "execution_count": null,
   "metadata": {},
   "outputs": [],
   "source": [
    "show(graphrt,figsize=10,xmin=0,xmax=800000,ymin=-0.35,ymax=0.35,fontsize=10,axes_labels=[r'$t$', r'$ z$'])"
   ]
  },
  {
   "cell_type": "code",
   "execution_count": null,
   "metadata": {},
   "outputs": [],
   "source": [
    "b=4.3045\n",
    "sep(m,r,th,a)=-((1/D(m,r,th,a))*((b^2)*g00(m,r,th,a)+2*b*g03(m,r,th,a)+g33(m,r,th,a)))\n",
    "var('r,th')\n",
    "B6(a,q)=sep(m,r,th,a)\n",
    "L6(r,th)=B6(0.327352,1)\n",
    "\n"
   ]
  },
  {
   "cell_type": "code",
   "execution_count": null,
   "metadata": {},
   "outputs": [],
   "source": [
    "graph5 = implicit_plot(L6,(r,2,4),(th,1,2.5),linewidth=5,\n",
    "                       plot_points=2000,figsize=[50,50],fontsize=120,\n",
    "                       axes_labels_size=2,\n",
    "                       frame=True,title='b=4.3045')\n",
    "show(graph5,xmin=2,xmax=2.5,ymin=1.25,ymax=1.9,axes_labels=[r'$r$', r'$ \\theta$'])"
   ]
  },
  {
   "cell_type": "code",
   "execution_count": null,
   "metadata": {},
   "outputs": [],
   "source": [
    "show(graph5,xmin=2,xmax=2.5,ymin=1.25,ymax=1.9,axes_labels=[r'$r$', r'$ \\theta$'])"
   ]
  },
  {
   "cell_type": "code",
   "execution_count": null,
   "metadata": {},
   "outputs": [],
   "source": [
    "graph5.save('sep_4.3045.png')"
   ]
  },
  {
   "cell_type": "code",
   "execution_count": null,
   "metadata": {},
   "outputs": [],
   "source": [
    "B5(a,q)=D(m,r,th,a)\n",
    "L5(r,th)=B5(0.327352,1)\n",
    "graph6 = implicit_plot(L5,(r,2,2.4),(th,1,2.5),linewidth=2,plot_points=2000,color='pink')"
   ]
  },
  {
   "cell_type": "code",
   "execution_count": null,
   "metadata": {},
   "outputs": [],
   "source": [
    "B7(a,q)=g11(m,r,th,a)\n",
    "L7(r,th)=B7(0.327352,1)\n",
    "graph7 = implicit_plot(L7,(r,2,2.4),(th,1,2.5),linewidth=2,plot_points=2000,color='pink')"
   ]
  },
  {
   "cell_type": "code",
   "execution_count": null,
   "metadata": {},
   "outputs": [],
   "source": [
    "show(graph7)"
   ]
  },
  {
   "cell_type": "code",
   "execution_count": null,
   "metadata": {},
   "outputs": [],
   "source": [
    "show(graph5+graph6+graph7,xmin=2,xmax=2.5,ymin=0,ymax=pi)"
   ]
  },
  {
   "cell_type": "code",
   "execution_count": null,
   "metadata": {},
   "outputs": [],
   "source": [
    "rth=[]\n",
    "for i in range (0,len(sol)):\n",
    "    rth.append([sol[i][2],(sol[i][3])])\n",
    "    "
   ]
  },
  {
   "cell_type": "code",
   "execution_count": null,
   "metadata": {},
   "outputs": [],
   "source": [
    "graphrth=scatter_plot(rth,frame=True, axes=False,color='red')"
   ]
  },
  {
   "cell_type": "code",
   "execution_count": null,
   "metadata": {},
   "outputs": [],
   "source": [
    "test=graph5+graphrth"
   ]
  },
  {
   "cell_type": "code",
   "execution_count": null,
   "metadata": {},
   "outputs": [],
   "source": [
    "show(test,figsize=20,xmin=2,xmax=2.5,ymin=1.4,ymax=1.7,fontsize=10,axes_labels=[r'$t$', r'$ z$'])"
   ]
  },
  {
   "cell_type": "code",
   "execution_count": null,
   "metadata": {},
   "outputs": [],
   "source": [
    "graphrt.save('ZT_0.0054019_106_shortrange.png')"
   ]
  },
  {
   "cell_type": "code",
   "execution_count": null,
   "metadata": {
    "scrolled": false
   },
   "outputs": [],
   "source": [
    "graphps=list_plot(fft_freq,plotjoined=True,scale='loglog',thickness=0.1,color='red',frame=True,)"
   ]
  },
  {
   "cell_type": "code",
   "execution_count": null,
   "metadata": {},
   "outputs": [],
   "source": [
    "show(graphps,figsize=50,fontsize=10,axes_labels=[r'$\\omega$', r'$P_z ( \\omega)$'])"
   ]
  },
  {
   "cell_type": "code",
   "execution_count": null,
   "metadata": {},
   "outputs": [],
   "source": [
    "graphps.save('Power_spectra_0.0054019.png')"
   ]
  },
  {
   "cell_type": "code",
   "execution_count": null,
   "metadata": {},
   "outputs": [],
   "source": [
    "my_df=pd.DataFrame(gg)\n",
    "my_df.to_csv('r0=40, al=0.005405_30k_trapleftleft+pair.csv',index=False,header=False)"
   ]
  },
  {
   "cell_type": "code",
   "execution_count": null,
   "metadata": {},
   "outputs": [],
   "source": []
  },
  {
   "cell_type": "code",
   "execution_count": null,
   "metadata": {},
   "outputs": [],
   "source": [
    "\n",
    "rn=[]\n",
    "n=0\n",
    "ang1=0\n",
    "rn0=0\n",
    "for i in range (len(gg)-1):\n",
    "    \n",
    "    c=vector([2.24,0])    \n",
    "    a = vector([gg[i][0],gg[i][1]])\n",
    "    \n",
    "    b = vector([gg[i+1][0],gg[i+1][1]])\n",
    "    c1=a-c\n",
    "    c2=b-c\n",
    "    dotproduct = c1.dot_product(c2)\n",
    "    myfraction = dotproduct/(norm(c1) * norm(c2))\n",
    "    ang=arccos(myfraction).n()\n",
    "    ang1+=ang\n",
    "    \n",
    "    if i % 15 == 0:\n",
    "        \n",
    "        rn0=ang1/15\n",
    "        rn.append([list3[i][0][0],rn0])\n",
    "        ang1=0\n",
    "        \n",
    "        \n",
    "    \n",
    "        "
   ]
  },
  {
   "cell_type": "code",
   "execution_count": null,
   "metadata": {},
   "outputs": [],
   "source": [
    "graphrot=list_plot(rn,plotjoined=True,thickness=1,frame=True,color='red',base=10)"
   ]
  },
  {
   "cell_type": "code",
   "execution_count": null,
   "metadata": {},
   "outputs": [],
   "source": [
    "show(graphrot,ymin=0,ymax=2.5,figsize=50,fontsize=10,axes_labels=[r'$t$', r'$\\theta_{Navg}$'])"
   ]
  },
  {
   "cell_type": "code",
   "execution_count": null,
   "metadata": {},
   "outputs": [],
   "source": [
    "graphrot.save('rot_num_0.0054019_ana15_.png')"
   ]
  },
  {
   "cell_type": "code",
   "execution_count": null,
   "metadata": {},
   "outputs": [],
   "source": []
  },
  {
   "cell_type": "code",
   "execution_count": null,
   "metadata": {},
   "outputs": [],
   "source": []
  },
  {
   "cell_type": "code",
   "execution_count": null,
   "metadata": {},
   "outputs": [],
   "source": [
    "b=4.304332\n",
    "\n",
    "sep(m,r,th,a)=-((1/D(m,r,th,a))*((b^2)*g00(m,r,th,a)+2*b*g03(m,r,th,a)+g33(m,r,th,a)))\n",
    "var('r,th')\n",
    "B6(a,q)=sep(m,r,th,a)\n",
    "L6(r,th)=B6(0.327352,1)\n",
    "implicit_plot(L6,(r,2,2.5),(th,1,2.2),figsize=10,xmin=2.2 ,xmax=2.35,ymin=1.4 ,ymax=1.75,plot_points=3000)\n",
    "graph5 = implicit_plot(L6,(r,2,2.5),(th,1,2.2),figsize=10,xmin=2 ,xmax=2.6 ,ymin=1.4 ,ymax=1.75,linewidth=1)\n",
    "\n",
    "\n",
    "\n",
    "\n",
    "show(graph5, xmin=2.1 ,xmax=2.4 ,ymin=1.4 ,ymax=1.75,figsize=100, axes_labels=[r'$r$', r'$θ/π$'],legend_loc=\"lower right\",frame=True)    "
   ]
  },
  {
   "cell_type": "code",
   "execution_count": null,
   "metadata": {},
   "outputs": [],
   "source": [
    "pon00=[]\n",
    "pon00=pd.read_csv('r0=2.24611111111111,pr0=0.0035, weird pair.csv',delimiter=',')\n",
    "pon00=pon00.values.tolist()"
   ]
  },
  {
   "cell_type": "code",
   "execution_count": null,
   "metadata": {
    "scrolled": false
   },
   "outputs": [],
   "source": [
    "\n",
    "\n",
    "graph84 = scatter_plot(pon00)\n",
    "graph00=graph84+graph5\n",
    "graph00.fontsize(48)\n",
    "show(graph00, xmin=2.1 ,xmax=2.4 ,ymin=1.4 ,ymax=1.75,figsize=20, axes_labels=[r'$r$', r'$θ/π$'],legend_loc=\"lower right\",frame=True)"
   ]
  },
  {
   "cell_type": "code",
   "execution_count": null,
   "metadata": {},
   "outputs": [],
   "source": [
    "graph00.save('ενδεικτική περιοδική_Separatrix.png')"
   ]
  },
  {
   "cell_type": "code",
   "execution_count": null,
   "metadata": {},
   "outputs": [],
   "source": [
    "import pandas as pd"
   ]
  },
  {
   "cell_type": "code",
   "execution_count": null,
   "metadata": {},
   "outputs": [],
   "source": []
  },
  {
   "cell_type": "code",
   "execution_count": null,
   "metadata": {},
   "outputs": [],
   "source": [
    "pon100=[]\n",
    "pon100=pd.read_csv(r'G:\\desktop\\merge-csv.com__6128a8769c239.csv',delimiter=',')"
   ]
  },
  {
   "cell_type": "code",
   "execution_count": null,
   "metadata": {},
   "outputs": [],
   "source": [
    "pon200=[]\n",
    "pon200=pd.read_csv(r'G:\\desktop\\merge-csv.com__6128a8b291c38.csv',delimiter=',')"
   ]
  },
  {
   "cell_type": "code",
   "execution_count": null,
   "metadata": {},
   "outputs": [],
   "source": [
    "pon101=pon100.values.tolist()\n"
   ]
  },
  {
   "cell_type": "code",
   "execution_count": null,
   "metadata": {},
   "outputs": [],
   "source": [
    "pon202=pon200.values.tolist()"
   ]
  },
  {
   "cell_type": "code",
   "execution_count": null,
   "metadata": {},
   "outputs": [],
   "source": [
    "shadow_symm=[]\n",
    "light_symm=[]\n",
    "for i in range(len(pon101)):\n",
    "    shadow_symm.append([pon101[i][0],pon101[i][1]*(-1)])\n",
    "for i in range(len(pon202)):\n",
    "    light_symm.append([pon202[i][0],pon202[i][1]*(-1)])\n",
    "\n",
    "        "
   ]
  },
  {
   "cell_type": "code",
   "execution_count": null,
   "metadata": {},
   "outputs": [],
   "source": [
    "graphsh1=scatter_plot(pon101,aspect_ratio='automatic',figsize=[50,50],alpha=1,markersize=100,zorder=1,edgecolor='black',facecolor='black')\n",
    "graphsh2=scatter_plot(pon202,aspect_ratio='automatic',figsize=[50,50],alpha=1,markersize=100,zorder=1,edgecolor='black',facecolor='green')\n",
    "graphsh3=scatter_plot(shadow_symm,aspect_ratio='automatic',figsize=[50,50],alpha=1,markersize=100,zorder=1,edgecolor='black',facecolor='black')\n",
    "graphsh4=scatter_plot(light_symm,aspect_ratio='automatic',figsize=[50,50],alpha=1,markersize=100,zorder=1,edgecolor='black',facecolor='green')\n"
   ]
  },
  {
   "cell_type": "code",
   "execution_count": null,
   "metadata": {},
   "outputs": [],
   "source": [
    "graphsh=graphsh1+graphsh2+graphsh3+graphsh4\n",
    "graphsh.fontsize(100)\n",
    "show(graphsh,xmin=-4.5,xmax=6.5,ymin=-6,ymax=6,figsize=100,axes_labels=[r'$b$', r'$\\alpha$'])"
   ]
  },
  {
   "cell_type": "code",
   "execution_count": null,
   "metadata": {},
   "outputs": [],
   "source": [
    "graphsh.save('sh2.pdf')"
   ]
  },
  {
   "cell_type": "code",
   "execution_count": null,
   "metadata": {},
   "outputs": [],
   "source": [
    "for i in range(2,300000):\n",
    "    \n",
    "    if cos(sol1[i][3])*cos(sol1[i+1][3]) < 0 :\n",
    "        v1=c1.tangent_vector_eval_at((((i+1)+i)/2)*0.01, verbose=False)\n",
    "        if v1[2]>0:\n",
    "            X1=[]\n",
    "            Y1=[]\n",
    "            X2=[]\n",
    "            Y2=[]\n",
    "            for j in range((i-10),(i+10)):\n",
    "            ##r,th \n",
    "                X1.append(sol1[j][3])\n",
    "                Y1.append(sol1[j][2])\n",
    "            ##v^r \n",
    "                \n",
    "                v2=c1.tangent_vector_eval_at(j*0.01, verbose=False)\n",
    "                Y2.append(v2[1])\n",
    "                \n",
    "            \n",
    "            interpolate_x1 = numerical_approx(pi/2)\n",
    "            y_interp1 = interp1d(X1, Y1,kind='cubic')\n",
    "            y_interp2=interp1d(X1,Y2,kind='cubic')\n",
    "            l1=y_interp1(interpolate_x1)\n",
    "            l2=y_interp2(interpolate_x1)\n",
    "            poin.append([numerical_approx(l1),numerical_approx(l2)])"
   ]
  }
 ],
 "metadata": {
  "kernelspec": {
   "display_name": "SageMath 9.2",
   "language": "sage",
   "name": "sagemath"
  },
  "language_info": {
   "codemirror_mode": {
    "name": "ipython",
    "version": 3
   },
   "file_extension": ".py",
   "mimetype": "text/x-python",
   "name": "python",
   "nbconvert_exporter": "python",
   "pygments_lexer": "ipython3",
   "version": "3.7.7"
  }
 },
 "nbformat": 4,
 "nbformat_minor": 4
}
